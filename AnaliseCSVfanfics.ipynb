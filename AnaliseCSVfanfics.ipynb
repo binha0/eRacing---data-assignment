{
  "nbformat": 4,
  "nbformat_minor": 0,
  "metadata": {
    "colab": {
      "name": "AnaliseCSVfanfics.ipynb",
      "provenance": [],
      "collapsed_sections": []
    },
    "kernelspec": {
      "name": "python3",
      "display_name": "Python 3"
    },
    "language_info": {
      "name": "python"
    }
  },
  "cells": [
    {
      "cell_type": "code",
      "metadata": {
        "colab": {
          "base_uri": "https://localhost:8080/"
        },
        "id": "qHbhx_TrHwFc",
        "outputId": "e97469ed-6753-407e-d3d8-80162c67aaca"
      },
      "source": [
        "pip install wget"
      ],
      "execution_count": 1,
      "outputs": [
        {
          "output_type": "stream",
          "name": "stdout",
          "text": [
            "Requirement already satisfied: wget in /usr/local/lib/python3.7/dist-packages (3.2)\n"
          ]
        }
      ]
    },
    {
      "cell_type": "code",
      "metadata": {
        "id": "u35_CVgFH-fm"
      },
      "source": [
        "import wget\n",
        "from zipfile import ZipFile\n",
        "import pandas as pd\n",
        "from collections import Counter\n",
        "from matplotlib import pyplot as plt"
      ],
      "execution_count": 2,
      "outputs": []
    },
    {
      "cell_type": "code",
      "metadata": {
        "colab": {
          "base_uri": "https://localhost:8080/",
          "height": 35
        },
        "id": "lf-eaojBIIeC",
        "outputId": "59896477-102c-470d-8a16-2df9cb1ba237"
      },
      "source": [
        "url = 'https://media.archiveofourown.org/ao3/stats/2021/02/26/20210226-stats.zip'\n",
        "wget.download(url)"
      ],
      "execution_count": 3,
      "outputs": [
        {
          "output_type": "execute_result",
          "data": {
            "application/vnd.google.colaboratory.intrinsic+json": {
              "type": "string"
            },
            "text/plain": [
              "'20210226-stats (3).zip'"
            ]
          },
          "metadata": {},
          "execution_count": 3
        }
      ]
    },
    {
      "cell_type": "code",
      "metadata": {
        "id": "tJw9_2Y5IapP"
      },
      "source": [
        "ZipFile(\"/content/20210226-stats.zip\").extractall('data')"
      ],
      "execution_count": 4,
      "outputs": []
    },
    {
      "cell_type": "code",
      "metadata": {
        "id": "Wx7ERMg3ItmH",
        "colab": {
          "base_uri": "https://localhost:8080/",
          "height": 419
        },
        "outputId": "8be23c6e-8fc8-4b5f-82f0-9d906368a505"
      },
      "source": [
        "tags = pd.read_csv('/content/data/tags-20210226.csv')\n",
        "\n",
        "tags"
      ],
      "execution_count": 5,
      "outputs": [
        {
          "output_type": "execute_result",
          "data": {
            "text/html": [
              "<div>\n",
              "<style scoped>\n",
              "    .dataframe tbody tr th:only-of-type {\n",
              "        vertical-align: middle;\n",
              "    }\n",
              "\n",
              "    .dataframe tbody tr th {\n",
              "        vertical-align: top;\n",
              "    }\n",
              "\n",
              "    .dataframe thead th {\n",
              "        text-align: right;\n",
              "    }\n",
              "</style>\n",
              "<table border=\"1\" class=\"dataframe\">\n",
              "  <thead>\n",
              "    <tr style=\"text-align: right;\">\n",
              "      <th></th>\n",
              "      <th>id</th>\n",
              "      <th>type</th>\n",
              "      <th>name</th>\n",
              "      <th>canonical</th>\n",
              "      <th>cached_count</th>\n",
              "      <th>merger_id</th>\n",
              "    </tr>\n",
              "  </thead>\n",
              "  <tbody>\n",
              "    <tr>\n",
              "      <th>0</th>\n",
              "      <td>1</td>\n",
              "      <td>Media</td>\n",
              "      <td>TV Shows</td>\n",
              "      <td>True</td>\n",
              "      <td>910</td>\n",
              "      <td>NaN</td>\n",
              "    </tr>\n",
              "    <tr>\n",
              "      <th>1</th>\n",
              "      <td>2</td>\n",
              "      <td>Media</td>\n",
              "      <td>Movies</td>\n",
              "      <td>True</td>\n",
              "      <td>1164</td>\n",
              "      <td>NaN</td>\n",
              "    </tr>\n",
              "    <tr>\n",
              "      <th>2</th>\n",
              "      <td>3</td>\n",
              "      <td>Media</td>\n",
              "      <td>Books &amp; Literature</td>\n",
              "      <td>True</td>\n",
              "      <td>134</td>\n",
              "      <td>NaN</td>\n",
              "    </tr>\n",
              "    <tr>\n",
              "      <th>3</th>\n",
              "      <td>4</td>\n",
              "      <td>Media</td>\n",
              "      <td>Cartoons &amp; Comics &amp; Graphic Novels</td>\n",
              "      <td>True</td>\n",
              "      <td>166</td>\n",
              "      <td>NaN</td>\n",
              "    </tr>\n",
              "    <tr>\n",
              "      <th>4</th>\n",
              "      <td>5</td>\n",
              "      <td>Media</td>\n",
              "      <td>Anime &amp; Manga</td>\n",
              "      <td>True</td>\n",
              "      <td>501</td>\n",
              "      <td>NaN</td>\n",
              "    </tr>\n",
              "    <tr>\n",
              "      <th>...</th>\n",
              "      <td>...</td>\n",
              "      <td>...</td>\n",
              "      <td>...</td>\n",
              "      <td>...</td>\n",
              "      <td>...</td>\n",
              "      <td>...</td>\n",
              "    </tr>\n",
              "    <tr>\n",
              "      <th>14467133</th>\n",
              "      <td>55395603</td>\n",
              "      <td>Freeform</td>\n",
              "      <td>Redacted</td>\n",
              "      <td>False</td>\n",
              "      <td>0</td>\n",
              "      <td>NaN</td>\n",
              "    </tr>\n",
              "    <tr>\n",
              "      <th>14467134</th>\n",
              "      <td>55395606</td>\n",
              "      <td>Freeform</td>\n",
              "      <td>Redacted</td>\n",
              "      <td>False</td>\n",
              "      <td>0</td>\n",
              "      <td>NaN</td>\n",
              "    </tr>\n",
              "    <tr>\n",
              "      <th>14467135</th>\n",
              "      <td>55395609</td>\n",
              "      <td>Freeform</td>\n",
              "      <td>Redacted</td>\n",
              "      <td>False</td>\n",
              "      <td>0</td>\n",
              "      <td>NaN</td>\n",
              "    </tr>\n",
              "    <tr>\n",
              "      <th>14467136</th>\n",
              "      <td>55395612</td>\n",
              "      <td>Freeform</td>\n",
              "      <td>Redacted</td>\n",
              "      <td>False</td>\n",
              "      <td>0</td>\n",
              "      <td>NaN</td>\n",
              "    </tr>\n",
              "    <tr>\n",
              "      <th>14467137</th>\n",
              "      <td>55395615</td>\n",
              "      <td>Freeform</td>\n",
              "      <td>Redacted</td>\n",
              "      <td>False</td>\n",
              "      <td>0</td>\n",
              "      <td>NaN</td>\n",
              "    </tr>\n",
              "  </tbody>\n",
              "</table>\n",
              "<p>14467138 rows × 6 columns</p>\n",
              "</div>"
            ],
            "text/plain": [
              "                id      type  ... cached_count  merger_id\n",
              "0                1     Media  ...          910        NaN\n",
              "1                2     Media  ...         1164        NaN\n",
              "2                3     Media  ...          134        NaN\n",
              "3                4     Media  ...          166        NaN\n",
              "4                5     Media  ...          501        NaN\n",
              "...            ...       ...  ...          ...        ...\n",
              "14467133  55395603  Freeform  ...            0        NaN\n",
              "14467134  55395606  Freeform  ...            0        NaN\n",
              "14467135  55395609  Freeform  ...            0        NaN\n",
              "14467136  55395612  Freeform  ...            0        NaN\n",
              "14467137  55395615  Freeform  ...            0        NaN\n",
              "\n",
              "[14467138 rows x 6 columns]"
            ]
          },
          "metadata": {},
          "execution_count": 5
        }
      ]
    },
    {
      "cell_type": "code",
      "metadata": {
        "colab": {
          "base_uri": "https://localhost:8080/",
          "height": 419
        },
        "id": "X4481sBZ1kAd",
        "outputId": "43ed1f24-9b68-44c7-c79c-1abade801b1d"
      },
      "source": [
        "works = pd.read_csv('/content/data/works-20210226.csv')\n",
        "\n",
        "works"
      ],
      "execution_count": 6,
      "outputs": [
        {
          "output_type": "execute_result",
          "data": {
            "text/html": [
              "<div>\n",
              "<style scoped>\n",
              "    .dataframe tbody tr th:only-of-type {\n",
              "        vertical-align: middle;\n",
              "    }\n",
              "\n",
              "    .dataframe tbody tr th {\n",
              "        vertical-align: top;\n",
              "    }\n",
              "\n",
              "    .dataframe thead th {\n",
              "        text-align: right;\n",
              "    }\n",
              "</style>\n",
              "<table border=\"1\" class=\"dataframe\">\n",
              "  <thead>\n",
              "    <tr style=\"text-align: right;\">\n",
              "      <th></th>\n",
              "      <th>creation date</th>\n",
              "      <th>language</th>\n",
              "      <th>restricted</th>\n",
              "      <th>complete</th>\n",
              "      <th>word_count</th>\n",
              "      <th>tags</th>\n",
              "      <th>Unnamed: 6</th>\n",
              "    </tr>\n",
              "  </thead>\n",
              "  <tbody>\n",
              "    <tr>\n",
              "      <th>0</th>\n",
              "      <td>2021-02-26</td>\n",
              "      <td>en</td>\n",
              "      <td>False</td>\n",
              "      <td>True</td>\n",
              "      <td>388.0</td>\n",
              "      <td>10+414093+1001939+4577144+1499536+110+4682892+...</td>\n",
              "      <td>NaN</td>\n",
              "    </tr>\n",
              "    <tr>\n",
              "      <th>1</th>\n",
              "      <td>2021-02-26</td>\n",
              "      <td>en</td>\n",
              "      <td>False</td>\n",
              "      <td>True</td>\n",
              "      <td>1638.0</td>\n",
              "      <td>10+20350917+34816907+23666027+23269305+2326930...</td>\n",
              "      <td>NaN</td>\n",
              "    </tr>\n",
              "    <tr>\n",
              "      <th>2</th>\n",
              "      <td>2021-02-26</td>\n",
              "      <td>en</td>\n",
              "      <td>False</td>\n",
              "      <td>True</td>\n",
              "      <td>1502.0</td>\n",
              "      <td>10+10613413+9780526+3763877+3741104+7657229+30...</td>\n",
              "      <td>NaN</td>\n",
              "    </tr>\n",
              "    <tr>\n",
              "      <th>3</th>\n",
              "      <td>2021-02-26</td>\n",
              "      <td>en</td>\n",
              "      <td>False</td>\n",
              "      <td>True</td>\n",
              "      <td>100.0</td>\n",
              "      <td>10+15322+54862755+20595867+32994286+663+471751...</td>\n",
              "      <td>NaN</td>\n",
              "    </tr>\n",
              "    <tr>\n",
              "      <th>4</th>\n",
              "      <td>2021-02-26</td>\n",
              "      <td>en</td>\n",
              "      <td>False</td>\n",
              "      <td>True</td>\n",
              "      <td>994.0</td>\n",
              "      <td>11+721553+54604+1439500+3938423+53483274+54862...</td>\n",
              "      <td>NaN</td>\n",
              "    </tr>\n",
              "    <tr>\n",
              "      <th>...</th>\n",
              "      <td>...</td>\n",
              "      <td>...</td>\n",
              "      <td>...</td>\n",
              "      <td>...</td>\n",
              "      <td>...</td>\n",
              "      <td>...</td>\n",
              "      <td>...</td>\n",
              "    </tr>\n",
              "    <tr>\n",
              "      <th>7269688</th>\n",
              "      <td>2008-09-13</td>\n",
              "      <td>en</td>\n",
              "      <td>True</td>\n",
              "      <td>True</td>\n",
              "      <td>705.0</td>\n",
              "      <td>78+77+84+101+104+105+106+23+13+16+70+933</td>\n",
              "      <td>NaN</td>\n",
              "    </tr>\n",
              "    <tr>\n",
              "      <th>7269689</th>\n",
              "      <td>2008-09-13</td>\n",
              "      <td>en</td>\n",
              "      <td>False</td>\n",
              "      <td>True</td>\n",
              "      <td>1392.0</td>\n",
              "      <td>78+77+84+107+23+10+16+70+933+616</td>\n",
              "      <td>NaN</td>\n",
              "    </tr>\n",
              "    <tr>\n",
              "      <th>7269690</th>\n",
              "      <td>2008-09-13</td>\n",
              "      <td>en</td>\n",
              "      <td>False</td>\n",
              "      <td>True</td>\n",
              "      <td>1755.0</td>\n",
              "      <td>77+78+69+108+109+62+110+23+9+111+16+70+10128+4858</td>\n",
              "      <td>NaN</td>\n",
              "    </tr>\n",
              "    <tr>\n",
              "      <th>7269691</th>\n",
              "      <td>2008-09-13</td>\n",
              "      <td>en</td>\n",
              "      <td>False</td>\n",
              "      <td>True</td>\n",
              "      <td>1338.0</td>\n",
              "      <td>112+113+13+114+16+115+101+117+118+119+120+116+...</td>\n",
              "      <td>NaN</td>\n",
              "    </tr>\n",
              "    <tr>\n",
              "      <th>7269692</th>\n",
              "      <td>2008-09-13</td>\n",
              "      <td>en</td>\n",
              "      <td>False</td>\n",
              "      <td>True</td>\n",
              "      <td>1836.0</td>\n",
              "      <td>123+124+125+127+128+13+129+14+130+131+132+133+...</td>\n",
              "      <td>NaN</td>\n",
              "    </tr>\n",
              "  </tbody>\n",
              "</table>\n",
              "<p>7269693 rows × 7 columns</p>\n",
              "</div>"
            ],
            "text/plain": [
              "        creation date  ... Unnamed: 6\n",
              "0          2021-02-26  ...        NaN\n",
              "1          2021-02-26  ...        NaN\n",
              "2          2021-02-26  ...        NaN\n",
              "3          2021-02-26  ...        NaN\n",
              "4          2021-02-26  ...        NaN\n",
              "...               ...  ...        ...\n",
              "7269688    2008-09-13  ...        NaN\n",
              "7269689    2008-09-13  ...        NaN\n",
              "7269690    2008-09-13  ...        NaN\n",
              "7269691    2008-09-13  ...        NaN\n",
              "7269692    2008-09-13  ...        NaN\n",
              "\n",
              "[7269693 rows x 7 columns]"
            ]
          },
          "metadata": {},
          "execution_count": 6
        }
      ]
    },
    {
      "cell_type": "code",
      "metadata": {
        "id": "IMeXjOgexOsd"
      },
      "source": [
        "#relevant columns for analisys\n",
        "\n",
        "#TAGS CSV\n",
        "tipo = tags['type'] #in Portuguese because 'type' represents something else in python\n",
        "name = tags['name'] \n",
        "\n",
        "#WORKS CSV\n",
        "work_tags = works['tags'] #tags contained in a specific work\n",
        "word_count = works['word_count'] "
      ],
      "execution_count": 7,
      "outputs": []
    },
    {
      "cell_type": "code",
      "metadata": {
        "colab": {
          "base_uri": "https://localhost:8080/"
        },
        "id": "ad-svAZWwW1b",
        "outputId": "c50dae68-6ae9-4bcf-f766-2e1f69b6a781"
      },
      "source": [
        "# PARAMETERS\n",
        "\n",
        "print(tags.columns)\n",
        "print(works.columns)"
      ],
      "execution_count": 8,
      "outputs": [
        {
          "output_type": "stream",
          "name": "stdout",
          "text": [
            "Index(['id', 'type', 'name', 'canonical', 'cached_count', 'merger_id'], dtype='object')\n",
            "Index(['creation date', 'language', 'restricted', 'complete', 'word_count',\n",
            "       'tags', 'Unnamed: 6'],\n",
            "      dtype='object')\n"
          ]
        }
      ]
    },
    {
      "cell_type": "code",
      "metadata": {
        "id": "wIiG4acmKET2",
        "colab": {
          "base_uri": "https://localhost:8080/"
        },
        "outputId": "8092c094-2ce3-4d78-a105-63f63abaa417"
      },
      "source": [
        "\n",
        "# COUNTERS - count how many times a unique value appears, forming a tupple \n",
        "\n",
        "tag_counter = Counter(work_tags)\n",
        "type_counter = Counter(tipo)\n",
        "\n",
        "#TYPES \n",
        "for tipo in tags['type']:\n",
        "    tag_counter.update()\n",
        "print(tag_counter)\n",
        "\n",
        "# TAGS\n",
        "for Id in work_tags:\n",
        "    tag_counter.update(str(Id).split('+')) #str marker is used to avoid TypeError along the iteration"
      ],
      "execution_count": 9,
      "outputs": [
        {
          "output_type": "stream",
          "name": "stderr",
          "text": [
            "IOPub data rate exceeded.\n",
            "The notebook server will temporarily stop sending output\n",
            "to the client in order to avoid crashing it.\n",
            "To change this limit, set the config variable\n",
            "`--NotebookApp.iopub_data_rate_limit`.\n",
            "\n",
            "Current values:\n",
            "NotebookApp.iopub_data_rate_limit=1000000.0 (bytes/sec)\n",
            "NotebookApp.rate_limit_window=3.0 (secs)\n",
            "\n"
          ]
        }
      ]
    },
    {
      "cell_type": "code",
      "metadata": {
        "colab": {
          "base_uri": "https://localhost:8080/"
        },
        "id": "oIcLKbLrCL13",
        "outputId": "ce8872d2-e3d2-4da4-bb5e-09850da491bb"
      },
      "source": [
        "#DATE\n",
        "dates = []\n",
        "frequency = []\n",
        "date_counter = Counter()\n",
        "\n",
        "for date in works['creation date']:\n",
        "    date_counter.update(str(date).split('-'))\n",
        "\n",
        "for data in date_counter.most_common(20): #selects the 20 most used tags in all works\n",
        "    dates.append(data[0]) \n",
        "    frequency.append(data[1])\n",
        "\n",
        "print(dates)\n",
        "print(frequency)"
      ],
      "execution_count": 10,
      "outputs": [
        {
          "output_type": "stream",
          "name": "stdout",
          "text": [
            "['2020', '2019', '12', '01', '02', '2018', '07', '10', '08', '05', '06', '11', '2017', '04', '03', '09', '2016', '2015', '2014', '2013']\n",
            "[1622090, 1114625, 977354, 960405, 907583, 896141, 854265, 843660, 834611, 816030, 798996, 792999, 783107, 781127, 773737, 772313, 685178, 552115, 444421, 359948]\n"
          ]
        }
      ]
    },
    {
      "cell_type": "code",
      "metadata": {
        "colab": {
          "base_uri": "https://localhost:8080/",
          "height": 316
        },
        "id": "kljzuxvuIiJM",
        "outputId": "e3a6851a-e7be-41b1-b4e8-53df6361e4f9"
      },
      "source": [
        "#plotting\n",
        "dates.reverse()\n",
        "frequency.reverse()\n",
        "\n",
        "plt.style.use('ggplot')\n",
        "plt.barh(dates,frequency)\n",
        "plt.title('Data')\n",
        "plt.xlabel('utilizações(em milhões)')\n"
      ],
      "execution_count": 11,
      "outputs": [
        {
          "output_type": "execute_result",
          "data": {
            "text/plain": [
              "Text(0.5, 0, 'utilizações(em milhões)')"
            ]
          },
          "metadata": {},
          "execution_count": 11
        },
        {
          "output_type": "display_data",
          "data": {
            "image/png": "[encoded data removed]",
            "text/plain": [
              "<Figure size 432x288 with 1 Axes>"
            ]
          },
          "metadata": {}
        }
      ]
    },
    {
      "cell_type": "code",
      "metadata": {
        "colab": {
          "base_uri": "https://localhost:8080/"
        },
        "id": "jh3HWm_wExHh",
        "outputId": "768ddee3-d3af-4581-cd79-b6efbc1b5e74"
      },
      "source": [
        "#LANGUAGE\n",
        "\n",
        "'''languages = []\n",
        "l_frequency = []\n",
        "lang_counter = Counter()'''\n",
        "\n",
        "for langs in works['language']:\n",
        "    lang_counter.update(str(langs))\n",
        "\n",
        "for langs in lang_counter.most_common(5): #selects the 5 most used tags in all works\n",
        "    languages.append(langs[0]) \n",
        "    l_frequency.append(langs[1])\n",
        "\n",
        "print(languages)\n",
        "print(l_frequency)"
      ],
      "execution_count": 12,
      "outputs": [
        {
          "output_type": "stream",
          "name": "stdout",
          "text": [
            "['e', 'n', 'h', 'z', 'r']\n",
            "[6673725, 6589040, 338662, 335183, 172080]\n"
          ]
        }
      ]
    },
    {
      "cell_type": "code",
      "metadata": {
        "colab": {
          "base_uri": "https://localhost:8080/"
        },
        "id": "4BpJqx1DGOpU",
        "outputId": "3ff5de40-c435-4a8f-a3b6-fb3828e8478d"
      },
      "source": [
        "lang = []\n",
        "ocorrencias = []\n",
        "\n",
        "teste2 = works.language.value_counts() \n",
        "for key, value in teste2.items():\n",
        "  lang.append(key)\n",
        "  ocorrencias.append(value)\n",
        "\n",
        "languages = lang[0:5]\n",
        "l_frequency = ocorrencias[0:5]\n",
        "\n",
        "print(lang[0:10])"
      ],
      "execution_count": 34,
      "outputs": [
        {
          "output_type": "stream",
          "name": "stdout",
          "text": [
            "['en', 'zh', 'ru', 'es', 'fr', 'it', 'id', 'ptBR', 'de', 'pl']\n"
          ]
        }
      ]
    },
    {
      "cell_type": "code",
      "metadata": {
        "colab": {
          "base_uri": "https://localhost:8080/",
          "height": 316
        },
        "id": "izVPTegnII1Z",
        "outputId": "35c622fc-1b03-4632-bd65-48a1313ebb46"
      },
      "source": [
        "#plotting\n",
        "languages.reverse()\n",
        "l_frequency.reverse()\n",
        "\n",
        "plt.style.use('ggplot')\n",
        "plt.barh(languages,l_frequency)\n",
        "plt.title('Idiomas')\n",
        "plt.xlabel('utilizações(em milhões)')\n"
      ],
      "execution_count": 35,
      "outputs": [
        {
          "output_type": "execute_result",
          "data": {
            "text/plain": [
              "Text(0.5, 0, 'utilizações(em milhões)')"
            ]
          },
          "metadata": {},
          "execution_count": 35
        },
        {
          "output_type": "display_data",
          "data": {
            "image/png": "[encoded data removed]",
            "text/plain": [
              "<Figure size 432x288 with 1 Axes>"
            ]
          },
          "metadata": {}
        }
      ]
    },
    {
      "cell_type": "code",
      "metadata": {
        "colab": {
          "base_uri": "https://localhost:8080/",
          "height": 317
        },
        "id": "7UXdiqzzV-v4",
        "outputId": "0400033f-b473-4e09-902f-a8c242e5ee93"
      },
      "source": [
        "lang_sample = lang[1:11]\n",
        "sample_freq = ocorrencias[1:11]\n",
        "\n",
        "lang_sample.reverse()\n",
        "sample_freq.reverse()\n",
        "\n",
        "plt.style.use('ggplot')\n",
        "plt.barh(lang_sample,sample_freq)\n",
        "plt.title('Idiomas sem Inglês')\n",
        "plt.xlabel('utilizações(em milhões)')"
      ],
      "execution_count": 36,
      "outputs": [
        {
          "output_type": "execute_result",
          "data": {
            "text/plain": [
              "Text(0.5, 0, 'utilizações(em milhões)')"
            ]
          },
          "metadata": {},
          "execution_count": 36
        },
        {
          "output_type": "display_data",
          "data": {
            "image/png": "[encoded data removed]",
            "text/plain": [
              "<Figure size 432x288 with 1 Axes>"
            ]
          },
          "metadata": {}
        }
      ]
    },
    {
      "cell_type": "code",
      "metadata": {
        "colab": {
          "base_uri": "https://localhost:8080/"
        },
        "id": "n6fyXxzuAOyZ",
        "outputId": "d581ac98-2f75-48b6-859e-a9ae05337f04"
      },
      "source": [
        "t = []\n",
        "apperances = []\n",
        "    \n",
        "for tag in tag_counter.most_common(20): #selects the 20 most used tags in all works\n",
        "    t.append(tag[0]) #contains tag id\n",
        "    apperances.append(tag[1]) #contains popularity for the ids above\n",
        "\n",
        "print(apperances)\n",
        "print(t)"
      ],
      "execution_count": 42,
      "outputs": [
        {
          "output_type": "stream",
          "name": "stdout",
          "text": [
            "[4046630, 3609746, 2529597, 2198200, 2072394, 1783503, 1362984, 1182041, 1103181, 945215, 713437, 674650, 633759, 510350, 368547, 361299, 353868, 326092, 274631, 273196]\n",
            "['16', '23', '14', '11', '10', '22', '21', '13', '12', '110', '9', '176', '116', '17', '18', '2379', '2246', '60', '1160', '136512']\n"
          ]
        }
      ]
    },
    {
      "cell_type": "code",
      "metadata": {
        "colab": {
          "base_uri": "https://localhost:8080/"
        },
        "id": "wsqnlaeEI9jC",
        "outputId": "0adae2de-603f-4096-ea5d-9bee1e4878f3"
      },
      "source": [
        "def change_tags(i):\n",
        "  ''' recives a list of tag 'id', sorts their index from such number and returns the corresponding 'name' to said 'id'''\n",
        "  i.sort\n",
        "  correct_tags = []\n",
        "  for number in i:\n",
        "    index = int(number) -2 #correction rate for the original csv file --> python starts its count in 0 and excel indexes start from 1 (-1), plus the column names occupy row 1 in original file (-2)\n",
        "    new_tag = name.get(index)\n",
        "    correct_tags.append(new_tag)\n",
        "  return correct_tags\n",
        "\n",
        "change_tags(t)"
      ],
      "execution_count": 16,
      "outputs": [
        {
          "output_type": "execute_result",
          "data": {
            "text/plain": [
              "['No Archive Warnings Apply',\n",
              " 'M/M',\n",
              " 'Explicit',\n",
              " 'General Audiences',\n",
              " 'Not Rated',\n",
              " 'F/M',\n",
              " 'Gen',\n",
              " 'Mature',\n",
              " 'Teen And Up Audiences',\n",
              " 'RPF',\n",
              " 'Other Media',\n",
              " 'Warrick Brown',\n",
              " 'Farscape',\n",
              " 'Graphic Depictions Of Violence',\n",
              " 'Major Character Death',\n",
              " 'Redacted',\n",
              " 'Tess',\n",
              " 'Stargate Atlantis',\n",
              " 'Redacted',\n",
              " 'Redacted',\n",
              " 'Redacted',\n",
              " 'Supernatural',\n",
              " 'Implied Necrophilia',\n",
              " 'Batman Begins (2005)',\n",
              " 'Other',\n",
              " 'Redacted',\n",
              " 'Redacted',\n",
              " 'Redacted',\n",
              " 'Redacted',\n",
              " 'Dean Winchester']"
            ]
          },
          "metadata": {},
          "execution_count": 16
        }
      ]
    },
    {
      "cell_type": "code",
      "metadata": {
        "id": "PSJGkXNL9T5J"
      },
      "source": [
        "def row_search(col_entrada, vlr_entrada, col_saida):\n",
        "  for index, row in tags.iterrows():\n",
        "    if row[col_entrada] == vlr_entrada: \n",
        "      print(row[col_saida])"
      ],
      "execution_count": 17,
      "outputs": []
    },
    {
      "cell_type": "code",
      "metadata": {
        "colab": {
          "base_uri": "https://localhost:8080/"
        },
        "id": "N2uTARfuRX9h",
        "outputId": "b9f2e08b-09b3-4cab-d95e-f9107879c902"
      },
      "source": [
        "tags['type'].unique()"
      ],
      "execution_count": 18,
      "outputs": [
        {
          "output_type": "execute_result",
          "data": {
            "text/plain": [
              "array(['Media', 'Rating', 'ArchiveWarning', 'Category', 'Character',\n",
              "       'Fandom', 'Relationship', 'Freeform', 'UnsortedTag'], dtype=object)"
            ]
          },
          "metadata": {},
          "execution_count": 18
        }
      ]
    },
    {
      "cell_type": "code",
      "metadata": {
        "colab": {
          "base_uri": "https://localhost:8080/"
        },
        "id": "41a3nbSXY7v-",
        "outputId": "15fd7011-8b84-4e12-e4e7-ee62d89f5070"
      },
      "source": [
        "tags.type.value_counts() "
      ],
      "execution_count": 38,
      "outputs": [
        {
          "output_type": "execute_result",
          "data": {
            "text/plain": [
              "Freeform          9244331\n",
              "Relationship      2048295\n",
              "Character         1509000\n",
              "UnsortedTag       1460615\n",
              "Fandom             204858\n",
              "Category               15\n",
              "Media                  12\n",
              "ArchiveWarning          6\n",
              "Rating                  6\n",
              "Name: type, dtype: int64"
            ]
          },
          "metadata": {},
          "execution_count": 38
        }
      ]
    },
    {
      "cell_type": "code",
      "metadata": {
        "colab": {
          "base_uri": "https://localhost:8080/"
        },
        "id": "MBu6mPdTUIVF",
        "outputId": "f4667875-4950-45a8-d8b5-7e004f6b4128"
      },
      "source": [
        "print('média:',word_count.mean(),' ','mediana:',word_count.median())"
      ],
      "execution_count": 19,
      "outputs": [
        {
          "output_type": "stream",
          "name": "stdout",
          "text": [
            "média: 7213.8505821525505   mediana: 2130.0\n"
          ]
        }
      ]
    },
    {
      "cell_type": "code",
      "metadata": {
        "colab": {
          "base_uri": "https://localhost:8080/",
          "height": 316
        },
        "id": "VLUrbsbZbNbR",
        "outputId": "c77185e3-21fe-439c-caf1-799bb00532da"
      },
      "source": [
        "#plotting\n",
        "apperances.reverse()\n",
        "tag_names = list(change_tags(t))\n",
        "\n",
        "plt.style.use('ggplot')\n",
        "plt.barh(change_tags(t),apperances)\n",
        "plt.title('Tags')\n",
        "plt.xlabel('utilizações(em milhões)')\n"
      ],
      "execution_count": 47,
      "outputs": [
        {
          "output_type": "execute_result",
          "data": {
            "text/plain": [
              "Text(0.5, 0, 'utilizações(em milhões)')"
            ]
          },
          "metadata": {},
          "execution_count": 47
        },
        {
          "output_type": "display_data",
          "data": {
            "image/png": "[encoded data removed]",
            "text/plain": [
              "<Figure size 432x288 with 1 Axes>"
            ]
          },
          "metadata": {}
        }
      ]
    },
    {
      "cell_type": "code",
      "metadata": {
        "colab": {
          "base_uri": "https://localhost:8080/",
          "height": 316
        },
        "id": "GrWohqdFalK9",
        "outputId": "87870b3e-881c-422b-d99e-6a3963a1385d"
      },
      "source": [
        "#plotting\n",
        "apperances.reverse()\n",
        "tag_names = list(change_tags(t))\n",
        "t.reverse()\n",
        "\n",
        "plt.style.use('ggplot')\n",
        "plt.barh(t,apperances)\n",
        "plt.title('ID Tags')\n",
        "plt.xlabel('utilizações(em milhões)')"
      ],
      "execution_count": 45,
      "outputs": [
        {
          "output_type": "execute_result",
          "data": {
            "text/plain": [
              "Text(0.5, 0, 'utilizações(em milhões)')"
            ]
          },
          "metadata": {},
          "execution_count": 45
        },
        {
          "output_type": "display_data",
          "data": {
            "image/png": "[encoded data removed]",
            "text/plain": [
              "<Figure size 432x288 with 1 Axes>"
            ]
          },
          "metadata": {}
        }
      ]
    }
  ]
}